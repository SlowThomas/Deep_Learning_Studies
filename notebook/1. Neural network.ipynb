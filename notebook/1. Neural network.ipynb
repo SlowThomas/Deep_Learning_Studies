{
 "cells": [
  {
   "cell_type": "code",
   "execution_count": 1,
   "id": "578d2d47-3e27-4e45-b70b-080e298e9b0f",
   "metadata": {},
   "outputs": [],
   "source": [
    "import numpy as np\n",
    "import sys"
   ]
  },
  {
   "cell_type": "markdown",
   "id": "777efff1-cb61-469a-938a-0f33ededa17e",
   "metadata": {},
   "source": [
    "### activation functions"
   ]
  },
  {
   "cell_type": "code",
   "execution_count": 2,
   "id": "4f9d7aab-d18b-43e3-8223-e3609b7608fc",
   "metadata": {},
   "outputs": [],
   "source": [
    "def ReLU(z):\n",
    "    return np.maximum(0, z)\n",
    "def d_ReLU(z):\n",
    "    return np.where(z < 0, 0.0, 1.0)\n",
    "\n",
    "def sigmoid(z):\n",
    "    return 1/(1 + np.exp(-z))\n",
    "def d_sigmoid(z):\n",
    "    return sigmoid(z)*(1 - sigmoid(z))\n",
    "\n",
    "def tanh(z):\n",
    "    # x = (np.exp(z) + np.exp(-z))/(np.exp(z) - np.exp(-z))\n",
    "    return np.tanh(z)\n",
    "def d_tanh(z):\n",
    "    return 1 - tanh(z)**2"
   ]
  },
  {
   "cell_type": "markdown",
   "id": "e51339c9-f034-4124-8673-ac44f262c8ea",
   "metadata": {},
   "source": [
    "### trainning examples "
   ]
  },
  {
   "cell_type": "code",
   "execution_count": 3,
   "id": "b27d1ddc-c556-47c6-9f96-1adfd881e5eb",
   "metadata": {},
   "outputs": [],
   "source": [
    "inputs = 5\n",
    "data = 50\n",
    "\n",
    "X = (np.random.random((inputs, data)) - 0.5) * 2\n",
    "some_rates1 = np.random.randint(-1, 2, size = (1, inputs))\n",
    "Y = np.round(sigmoid(np.dot(some_rates1, X))) # shape: (1, data)"
   ]
  },
  {
   "cell_type": "markdown",
   "id": "92ab8372-cbfb-4360-a8eb-67b5f6fe5199",
   "metadata": {},
   "source": [
    "\n",
    "### init"
   ]
  },
  {
   "cell_type": "code",
   "execution_count": 4,
   "id": "25e4d9eb-0eec-4085-a8bb-fe006511f4bb",
   "metadata": {},
   "outputs": [],
   "source": [
    "def cost(Y_hat):\n",
    "    epsilon = 0\n",
    "    if(np.any(Y_hat == 1) or np.any(Y_hat == 0)):\n",
    "        epsilon = 1e-5\n",
    "    return np.sum(-(Y*np.log(Y_hat + epsilon) + (1 - Y)*np.log(1 - Y_hat + epsilon))) / data\n",
    "def d_cost(Y_hat):\n",
    "    epsilon = 0\n",
    "    if(np.any(Y_hat == 1) or np.any(Y_hat == 0)):\n",
    "        epsilon = 1e-5\n",
    "    return -(Y/(Y_hat + epsilon)) + ((1-Y)/(1-Y_hat + epsilon))\n",
    "\n",
    "layers = [inputs, 5, 5, 5, 5, 1]\n",
    "layer = len(layers) - 1\n",
    "\n",
    "A = [X]\n",
    "dA = [None]\n",
    "W = [None]\n",
    "dW = [None]\n",
    "B = [None]\n",
    "dB = [None]\n",
    "Z = [None]\n",
    "dZ = [None]\n",
    "g = [None]\n",
    "dg = [None]\n",
    "\n",
    "for i in range(1, layer):\n",
    "    if(i % 2 == 0):\n",
    "        g.append(tanh)\n",
    "        dg.append(d_tanh)\n",
    "    else:\n",
    "        g.append(sigmoid)\n",
    "        dg.append(d_sigmoid)\n",
    "g.append(sigmoid)\n",
    "dg.append(d_sigmoid)\n",
    "\n",
    "Y_hat = np.zeros((1, data))\n",
    "for l in range(1, layer + 1):\n",
    "    A.append(np.zeros((layers[l], data)))\n",
    "    dA.append(np.zeros((layers[l], data)))\n",
    "    W.append((np.random.random((layers[l], layers[l-1])) - 0.5) * 2)\n",
    "    dW.append(np.zeros((layers[l], layers[l-1])))\n",
    "    B.append(np.zeros((layers[l], 1)))\n",
    "    dB.append(np.zeros((layers[l], 1)))\n",
    "    Z.append(np.zeros((layers[l], data)))\n",
    "    dZ.append(np.zeros((layers[l], data)))"
   ]
  },
  {
   "cell_type": "markdown",
   "id": "57adf32c-f25b-43ca-890b-dfe27f18e9da",
   "metadata": {},
   "source": [
    "### learning"
   ]
  },
  {
   "cell_type": "code",
   "execution_count": 5,
   "id": "a80ccc73-6183-410c-8586-4e4972a1d12f",
   "metadata": {},
   "outputs": [
    {
     "name": "stdout",
     "output_type": "stream",
     "text": [
      "20%\n",
      "loss: 0.0018853569761551714\n",
      "\n",
      "40%\n",
      "loss: 0.0007322729560100648\n",
      "\n",
      "60%\n",
      "loss: 0.00044379726652914354\n",
      "\n",
      "80%\n",
      "loss: 0.00031602572995915584\n",
      "\n",
      "100%\n",
      "loss: 0.0002445703587029345\n",
      "\n"
     ]
    }
   ],
   "source": [
    "from IPython.display import display, update_display\n",
    "\n",
    "iteration = 100000\n",
    "rate = 0.01\n",
    "L = cost(Y_hat)\n",
    "\n",
    "'''\n",
    "display(display_id=1)\n",
    "display(L, display_id=2)\n",
    "\n",
    "update_display(str(int(acc / iteration * 100)) + \"%\", display_id=1)\n",
    "update_display(L, display_id=2)\n",
    "'''\n",
    "\n",
    "\n",
    "for i in range(1, iteration + 1):\n",
    "    for l in range(1, layer + 1):\n",
    "        Z[l] = np.dot(W[l], A[l - 1]) + B[l]\n",
    "        A[l] = g[l](Z[l])\n",
    "    Y_hat = A[layer]\n",
    "    L = cost(Y_hat)\n",
    "    \n",
    "    dA[layer] = d_cost(Y_hat)\n",
    "    for l in range(layer, 0, -1):\n",
    "        dZ[l] = dA[l] * dg[l](Z[l])# dA[l+1] / dZ[l]\n",
    "        dW[l] = np.dot(dZ[l], A[l-1].T) / data # dW[l] : (l, l-1)\n",
    "        dB[l] = np.sum(dZ[l], axis=1, keepdims=True) / data # dB[l] : (l, 1)\n",
    "        dA[l-1] = np.dot(W[l].T, dZ[l])\n",
    "        \n",
    "        W[l] = W[l] - dW[l] * rate\n",
    "        B[l] = B[l] - dB[l] * rate\n",
    "    \n",
    "    if((int(i / iteration * 100)) % 20 == 0 and int(i * 100 / iteration) == i * 100 / iteration):\n",
    "        sys.stdout.write(str(int(i / iteration * 100)) + \"%\\nloss: \" + str(L) + \"\\n\\n\")"
   ]
  },
  {
   "cell_type": "markdown",
   "id": "95a5372e-263b-425e-9a84-128f7c07d8d3",
   "metadata": {},
   "source": [
    "[https://github.com/kuk/log-progress]() <br>\n",
    "[https://www.v7labs.com/blog/neural-networks-activation-functions]() <br>\n",
    "[https://paperswithcode.com/method/gelu]()"
   ]
  },
  {
   "cell_type": "code",
   "execution_count": null,
   "id": "21ad4f30-31ae-4eca-a5e9-f8d362410bda",
   "metadata": {},
   "outputs": [],
   "source": []
  }
 ],
 "metadata": {
  "kernelspec": {
   "display_name": "Python 3 (ipykernel)",
   "language": "python",
   "name": "python3"
  },
  "language_info": {
   "codemirror_mode": {
    "name": "ipython",
    "version": 3
   },
   "file_extension": ".py",
   "mimetype": "text/x-python",
   "name": "python",
   "nbconvert_exporter": "python",
   "pygments_lexer": "ipython3",
   "version": "3.10.8"
  }
 },
 "nbformat": 4,
 "nbformat_minor": 5
}
