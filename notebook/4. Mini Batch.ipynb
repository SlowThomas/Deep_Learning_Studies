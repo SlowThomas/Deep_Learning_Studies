{
 "cells": [
  {
   "cell_type": "code",
   "execution_count": 1,
   "id": "dba63c24-4e0e-4a3f-a4bd-a212afe7591f",
   "metadata": {},
   "outputs": [],
   "source": [
    "import numpy as np\n",
    "import sys"
   ]
  },
  {
   "cell_type": "markdown",
   "id": "af14b54d-23fe-4317-866b-2f07978676be",
   "metadata": {},
   "source": [
    "# Trainning Examples "
   ]
  },
  {
   "cell_type": "code",
   "execution_count": 2,
   "id": "baa0011d-82ee-48ad-a25b-cddd054443b8",
   "metadata": {},
   "outputs": [],
   "source": [
    "inputs = 5\n",
    "data = 2000\n",
    "\n",
    "m = data\n",
    "\n",
    "X = (np.random.random((inputs, data)) - 0.5) * 2\n",
    "some_rates1 = np.random.randint(-1, 2, size = (1, inputs))\n",
    "Y = np.round(1/(1 + np.exp(-(np.dot(some_rates1, X))))) # shape: (1, data)"
   ]
  },
  {
   "cell_type": "markdown",
   "id": "bb38a3e2-e207-4b5f-9ad1-4e25606469ed",
   "metadata": {},
   "source": [
    "---\n",
    "\n",
    "# Machine"
   ]
  },
  {
   "cell_type": "markdown",
   "id": "6912c7d2-71cd-4687-aec3-aa1c95dc8b21",
   "metadata": {},
   "source": [
    "### hyper parameters"
   ]
  },
  {
   "cell_type": "code",
   "execution_count": 3,
   "id": "c3523470-94c8-4769-862c-147d5163c965",
   "metadata": {},
   "outputs": [],
   "source": [
    "epoch = 1000\n",
    "rate = 0.01\n",
    "lambd = 0.5\n",
    "batch = 64 # batch size, power of 2\n",
    "layers = [None, 5, 5, 5, 5, 1]\n",
    "epsilon = 1e-5"
   ]
  },
  {
   "cell_type": "markdown",
   "id": "97e4ce8c-9199-4563-a83b-8ee5e22298ad",
   "metadata": {
    "tags": []
   },
   "source": [
    "---\n",
    "\n",
    "# Init"
   ]
  },
  {
   "cell_type": "markdown",
   "id": "b2933922-25f3-4a56-8764-03c92b68e174",
   "metadata": {},
   "source": [
    "### Activation Functions"
   ]
  },
  {
   "cell_type": "code",
   "execution_count": 4,
   "id": "eced8d07-5ad7-4b6b-ac03-17c9d11284bf",
   "metadata": {},
   "outputs": [],
   "source": [
    "def ReLU(z):\n",
    "    return np.maximum(0, z)\n",
    "def d_ReLU(z):\n",
    "    return np.where(z < 0, 0.0, 1.0)\n",
    "\n",
    "def sigmoid(z):\n",
    "    return 1/(1 + np.exp(-z))\n",
    "def d_sigmoid(z):\n",
    "    return sigmoid(z)*(1 - sigmoid(z))\n",
    "\n",
    "def tanh(z):\n",
    "    # x = (np.exp(z) + np.exp(-z))/(np.exp(z) - np.exp(-z))\n",
    "    return np.tanh(z)\n",
    "def d_tanh(z):\n",
    "    return 1 - tanh(z)**2"
   ]
  },
  {
   "cell_type": "markdown",
   "id": "1dc73143-ae14-4384-bbd8-7fa6daf2d802",
   "metadata": {},
   "source": [
    "### Cost Function"
   ]
  },
  {
   "cell_type": "code",
   "execution_count": 5,
   "id": "170661cc-b6aa-458b-b066-5d5b1a732184",
   "metadata": {},
   "outputs": [],
   "source": [
    "def cost(Y_hat, Y):\n",
    "    return np.sum(-(Y*np.log(Y_hat + epsilon) + (1 - Y)*np.log(1 - Y_hat + epsilon))) / Y.shape[1]\n",
    "def d_cost(Y_hat, Y):\n",
    "    return -(Y/(Y_hat + epsilon)) + ((1-Y)/(1-Y_hat + epsilon))"
   ]
  },
  {
   "cell_type": "markdown",
   "id": "f541fe12-0120-42c0-a9d2-9f6da5ff68af",
   "metadata": {},
   "source": [
    "### Normalization"
   ]
  },
  {
   "cell_type": "code",
   "execution_count": 6,
   "id": "3e192d8c-73c5-4710-9039-8bd64acb9262",
   "metadata": {},
   "outputs": [],
   "source": [
    "# subtract mean\n",
    "mu = np.sum(X) / m\n",
    "X = X - mu\n",
    "\n",
    "# Normalize Variance\n",
    "sigma = np.sum(X**2)/m\n",
    "X /= sigma"
   ]
  },
  {
   "cell_type": "markdown",
   "id": "ec2fdf6d-3bf7-4d64-bb01-49f3af63c223",
   "metadata": {},
   "source": [
    "### Mini-Batch"
   ]
  },
  {
   "cell_type": "code",
   "execution_count": 7,
   "id": "9ad4cc3d-ac4e-44af-9cf3-c19b02258dd5",
   "metadata": {},
   "outputs": [],
   "source": [
    "layers[0] = inputs\n",
    "layer = len(layers) - 1\n",
    "batch_num = int(m / batch + 1)\n",
    "X = np.array_split(X, batch_num, 1)\n",
    "Y = np.array_split(Y, batch_num, 1)"
   ]
  },
  {
   "cell_type": "markdown",
   "id": "ab8b2732-e825-4972-a63d-6a15cb55785c",
   "metadata": {},
   "source": [
    "### Cache"
   ]
  },
  {
   "cell_type": "code",
   "execution_count": 8,
   "id": "7b3b0e5c-f6f5-4eb3-afbe-8a654b3c834e",
   "metadata": {},
   "outputs": [],
   "source": [
    "A = [X] + [None] * layer\n",
    "dA = [None] + [None] * layer\n",
    "Z = [None] + [None] * layer\n",
    "dZ = [None] + [None] * layer\n",
    "g = [None] + [ReLU] * (layer - 1) + [sigmoid]\n",
    "dg = [None] + [d_ReLU] * (layer - 1) + [d_sigmoid]\n",
    "W = [None]\n",
    "dW = [None]\n",
    "B = [None]\n",
    "dB = [None]\n",
    "\n",
    "# Weight Initialization\n",
    "for l in range(1, layer + 1):\n",
    "    # weight = weight * Var(W)\n",
    "    # ReLU: Var(W) = sqrt(2 / n[l-1])\n",
    "    # tanh: Var(W) = sqrt(1 / n[l-1]) \n",
    "    #             or sqrt(2 / (n[l-1] + n[l]))\n",
    "    W.append(np.random.random((layers[l], layers[l-1]))*np.sqrt(2/layers[l-1]))\n",
    "    dW.append(np.zeros((layers[l], layers[l-1])))\n",
    "    \n",
    "    B.append(np.zeros((layers[l], 1)))\n",
    "    dB.append(np.zeros((layers[l], 1)))"
   ]
  },
  {
   "cell_type": "markdown",
   "id": "1d13e4c2-c327-41e5-a94c-d7a4a5c08503",
   "metadata": {},
   "source": [
    "---\n",
    "\n",
    "# learning"
   ]
  },
  {
   "cell_type": "code",
   "execution_count": 9,
   "id": "f0db5b06-8438-4a21-806f-680cc4584f44",
   "metadata": {},
   "outputs": [
    {
     "name": "stdout",
     "output_type": "stream",
     "text": [
      "20%\n",
      "loss: 0.012786208565994524\n",
      "\n",
      "40%\n",
      "loss: 0.012620615747655833\n",
      "\n",
      "60%\n",
      "loss: 0.01252402819708158\n",
      "\n",
      "80%\n",
      "loss: 0.012434569401750003\n",
      "\n",
      "100%\n",
      "loss: 0.01233892248149021\n",
      "\n"
     ]
    }
   ],
   "source": [
    "for i in range(1, epoch + 1):\n",
    "    L = 0\n",
    "    for t in range(batch_num):\n",
    "        A[0] = X[t]\n",
    "        for l in range(1, layer + 1):\n",
    "            Z[l] = np.dot(W[l], A[l - 1]) + B[l]\n",
    "            A[l] = g[l](Z[l])\n",
    "        Y_hat = A[layer]\n",
    "        L += cost(Y_hat, Y[t])\n",
    "\n",
    "        dA[layer] = d_cost(Y_hat, Y[t])\n",
    "        for l in range(layer, 0, -1):\n",
    "            dZ[l] = dA[l] * dg[l](Z[l])\n",
    "            dW[l] = np.dot(dZ[l], A[l-1].T) / data\n",
    "            #Regularized derivative\n",
    "            dW[l] += lambd / m * W[l]\n",
    "            dB[l] = np.sum(dZ[l], axis=1, keepdims=True) / data\n",
    "            dA[l-1] = np.dot(W[l].T, dZ[l])\n",
    "\n",
    "            W[l] = W[l] - dW[l] * rate\n",
    "            B[l] = B[l] - dB[l] * rate\n",
    "    \n",
    "    # Regularized cost\n",
    "    J = L / m\n",
    "    for l in range(1, layer + 1):\n",
    "        J += lambd / (2*m) * np.sum(W[l]**2)\n",
    "    \n",
    "    if((int(i / epoch * 100)) % 20 == 0 and int(i * 100 / epoch) == i * 100 / epoch):\n",
    "        sys.stdout.write(str(int(i / epoch * 100)) + \"%\\nloss: \" + str(J) + \"\\n\\n\")"
   ]
  },
  {
   "cell_type": "code",
   "execution_count": null,
   "id": "7323079b-17d5-46a0-9936-a2a1fd587cd7",
   "metadata": {},
   "outputs": [],
   "source": []
  }
 ],
 "metadata": {
  "kernelspec": {
   "display_name": "Python 3 (ipykernel)",
   "language": "python",
   "name": "python3"
  },
  "language_info": {
   "codemirror_mode": {
    "name": "ipython",
    "version": 3
   },
   "file_extension": ".py",
   "mimetype": "text/x-python",
   "name": "python",
   "nbconvert_exporter": "python",
   "pygments_lexer": "ipython3",
   "version": "3.10.8"
  }
 },
 "nbformat": 4,
 "nbformat_minor": 5
}
