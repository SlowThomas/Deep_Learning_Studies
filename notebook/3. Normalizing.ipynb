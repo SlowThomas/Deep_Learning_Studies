{
 "cells": [
  {
   "cell_type": "code",
   "execution_count": 1,
   "id": "d96bdbd3-88a3-4582-8ece-7466b57ede0e",
   "metadata": {},
   "outputs": [],
   "source": [
    "import numpy as np\n",
    "import sys"
   ]
  },
  {
   "cell_type": "markdown",
   "id": "9e5af335-3ca0-48f3-abb3-7e3562ba10c8",
   "metadata": {},
   "source": [
    "### activation functions"
   ]
  },
  {
   "cell_type": "code",
   "execution_count": 2,
   "id": "e3371355-b9b4-4c5d-ac5a-b8fa0ccb336c",
   "metadata": {},
   "outputs": [],
   "source": [
    "def ReLU(z):\n",
    "    return np.maximum(0, z)\n",
    "def d_ReLU(z):\n",
    "    return np.where(z < 0, 0.0, 1.0)\n",
    "\n",
    "def sigmoid(z):\n",
    "    return 1/(1 + np.exp(-z))\n",
    "def d_sigmoid(z):\n",
    "    return sigmoid(z)*(1 - sigmoid(z))\n",
    "\n",
    "def tanh(z):\n",
    "    # x = (np.exp(z) + np.exp(-z))/(np.exp(z) - np.exp(-z))\n",
    "    return np.tanh(z)\n",
    "def d_tanh(z):\n",
    "    return 1 - tanh(z)**2"
   ]
  },
  {
   "cell_type": "markdown",
   "id": "546af3e4-bded-452d-824d-179143fdb8ff",
   "metadata": {},
   "source": [
    "### trainning examples "
   ]
  },
  {
   "cell_type": "code",
   "execution_count": 3,
   "id": "5b6d49c1-6d2f-42cf-87b7-ab88d77de1b2",
   "metadata": {},
   "outputs": [],
   "source": [
    "inputs = 5\n",
    "\n",
    "data = 50\n",
    "m = data\n",
    "\n",
    "X = (np.random.random((inputs, data)) - 0.5) * 2\n",
    "some_rates1 = np.random.randint(-1, 2, size = (1, inputs))\n",
    "Y = np.round(sigmoid(np.dot(some_rates1, X))) # shape: (1, data)"
   ]
  },
  {
   "cell_type": "markdown",
   "id": "8b0d5cba-0830-4227-883e-6a1de941d28d",
   "metadata": {},
   "source": [
    "\n",
    "### init"
   ]
  },
  {
   "cell_type": "code",
   "execution_count": 4,
   "id": "8b961190-1630-42a0-bfe0-dd0de8b9bffc",
   "metadata": {},
   "outputs": [],
   "source": [
    "def cost(Y_hat):\n",
    "    epsilon = 0\n",
    "    if(np.any(Y_hat == 1) or np.any(Y_hat == 0)):\n",
    "        epsilon = 1e-5\n",
    "    return np.sum(-(Y*np.log(Y_hat + epsilon) + (1 - Y)*np.log(1 - Y_hat + epsilon))) / data\n",
    "def d_cost(Y_hat):\n",
    "    epsilon = 0\n",
    "    if(np.any(Y_hat == 1) or np.any(Y_hat == 0)):\n",
    "        epsilon = 1e-5\n",
    "    return -(Y/(Y_hat + epsilon)) + ((1-Y)/(1-Y_hat + epsilon))\n",
    "\n",
    "layers = [inputs, 5, 5, 5, 5, 1]\n",
    "layer = len(layers) - 1\n",
    "\n",
    "A = [X]\n",
    "dA = [None]\n",
    "W = [None]\n",
    "dW = [None]\n",
    "B = [None]\n",
    "dB = [None]\n",
    "Z = [None]\n",
    "dZ = [None]\n",
    "g = [None]\n",
    "dg = [None]\n",
    "\n",
    "for i in range(1, layer):\n",
    "    g.append(tanh)\n",
    "    dg.append(d_tanh)\n",
    "        \n",
    "g.append(sigmoid)\n",
    "dg.append(d_sigmoid)\n",
    "\n",
    "Y_hat = np.zeros((1, data))\n",
    "for l in range(1, layer + 1):\n",
    "    A.append(np.zeros((layers[l], data)))\n",
    "    dA.append(np.zeros((layers[l], data)))\n",
    "    \n",
    "    Z.append(np.zeros((layers[l], data)))\n",
    "    dZ.append(np.zeros((layers[l], data)))"
   ]
  },
  {
   "cell_type": "markdown",
   "id": "70de9e18-4c5c-4e1f-a03a-ae56d4cbd6b6",
   "metadata": {},
   "source": [
    "### Normalizing"
   ]
  },
  {
   "cell_type": "markdown",
   "id": "fe810c1e-8512-4029-93e1-ae93ac8e6dca",
   "metadata": {},
   "source": [
    "![](https://i.imgur.com/CsZjSy7.png)\n",
    "\n",
    "![](https://i.imgur.com/vRtxKYZ.png)"
   ]
  },
  {
   "cell_type": "code",
   "execution_count": 5,
   "id": "cff47943-5994-4105-8e22-bdc436ad3537",
   "metadata": {},
   "outputs": [],
   "source": [
    "# subtract mean\n",
    "mu = np.sum(A[0]) / m\n",
    "A[0] = A[0] - mu\n",
    "\n",
    "# Normalize Variance\n",
    "sigma = np.sum(A[0]**2)/m\n",
    "A[0] /= sigma\n",
    "\n",
    "for l in range(1, layer + 1):\n",
    "    # weight = weight * Var(W)\n",
    "    # ReLU: Var(W) = sqrt(2 / n[l-1])\n",
    "    # tanh: Var(W) = sqrt(1 / n[l-1]) \n",
    "    #             or sqrt(2 / (n[l-1] + n[l]))\n",
    "    W.append(np.random.random((layers[l], layers[l-1]))*np.sqrt(2/layers[l-1]))\n",
    "    dW.append(np.zeros((layers[l], layers[l-1])))\n",
    "    \n",
    "    B.append(np.zeros((layers[l], 1)))\n",
    "    dB.append(np.zeros((layers[l], 1)))"
   ]
  },
  {
   "cell_type": "markdown",
   "id": "2b58e8af-fe33-493e-9dff-f75becef8070",
   "metadata": {},
   "source": [
    "### learning"
   ]
  },
  {
   "cell_type": "code",
   "execution_count": 6,
   "id": "88bd96a7-7c59-4922-a9e0-200e0df395e8",
   "metadata": {},
   "outputs": [
    {
     "name": "stdout",
     "output_type": "stream",
     "text": [
      "20%\n",
      "loss: 0.5785719544751793, 0.6476760867608526\n",
      "\n",
      "40%\n",
      "loss: 0.4811677651733459, 0.551488751473404\n",
      "\n",
      "60%\n",
      "loss: 0.342747102580754, 0.4181742844356491\n",
      "\n",
      "80%\n",
      "loss: 0.20619028482864615, 0.2897257821343801\n",
      "\n",
      "100%\n",
      "loss: 0.12156154828181483, 0.21448383097190407\n",
      "\n"
     ]
    }
   ],
   "source": [
    "iteration = 1000\n",
    "rate = 0.01\n",
    "lambd = 0.5\n",
    "L = cost(Y_hat)\n",
    "\n",
    "for i in range(1, iteration + 1):\n",
    "    for l in range(1, layer + 1):\n",
    "        Z[l] = np.dot(W[l], A[l - 1]) + B[l]\n",
    "        A[l] = g[l](Z[l])\n",
    "    Y_hat = A[layer]\n",
    "    L = cost(Y_hat)\n",
    "    # Regularized cost\n",
    "    J = L\n",
    "    for l in range(1, layer + 1):\n",
    "        J += lambd / (2*m) * np.sum(W[l]**2)\n",
    "    \n",
    "    dA[layer] = d_cost(Y_hat)\n",
    "    for l in range(layer, 0, -1):\n",
    "        dZ[l] = dA[l] * dg[l](Z[l])\n",
    "        dW[l] = np.dot(dZ[l], A[l-1].T) / data\n",
    "        #Regularized derivative\n",
    "        dW[l] += lambd / m * W[l]\n",
    "        dB[l] = np.sum(dZ[l], axis=1, keepdims=True) / data\n",
    "        dA[l-1] = np.dot(W[l].T, dZ[l])\n",
    "        \n",
    "        W[l] = W[l] - dW[l] * rate\n",
    "        B[l] = B[l] - dB[l] * rate\n",
    "    \n",
    "    if((int(i / iteration * 100)) % 20 == 0 and int(i * 100 / iteration) == i * 100 / iteration):\n",
    "        sys.stdout.write(str(int(i / iteration * 100)) + \"%\\nloss: \" + str(L) + \", \" + str(J) + \"\\n\\n\")"
   ]
  },
  {
   "cell_type": "code",
   "execution_count": null,
   "id": "074e917c-0938-40ff-95c1-65d84335a676",
   "metadata": {},
   "outputs": [],
   "source": []
  }
 ],
 "metadata": {
  "kernelspec": {
   "display_name": "Python 3 (ipykernel)",
   "language": "python",
   "name": "python3"
  },
  "language_info": {
   "codemirror_mode": {
    "name": "ipython",
    "version": 3
   },
   "file_extension": ".py",
   "mimetype": "text/x-python",
   "name": "python",
   "nbconvert_exporter": "python",
   "pygments_lexer": "ipython3",
   "version": "3.10.8"
  }
 },
 "nbformat": 4,
 "nbformat_minor": 5
}
