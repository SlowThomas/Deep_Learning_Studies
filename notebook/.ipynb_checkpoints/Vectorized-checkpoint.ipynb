{
 "cells": [
  {
   "cell_type": "code",
   "execution_count": 1,
   "id": "250ebe02-904e-4d74-ab5f-c01162100c36",
   "metadata": {},
   "outputs": [],
   "source": [
    "import numpy as np\n",
    "import sys"
   ]
  },
  {
   "cell_type": "code",
   "execution_count": 2,
   "id": "76058f9e-ce28-482a-bcd3-1e83128c1ad3",
   "metadata": {},
   "outputs": [],
   "source": [
    "def sigma(z):\n",
    "    return 1/(1+np.exp(-z))"
   ]
  },
  {
   "cell_type": "code",
   "execution_count": 3,
   "id": "0e44db80-9125-42c7-8fd8-84cb40932421",
   "metadata": {},
   "outputs": [],
   "source": [
    "## natural set\n",
    "m = 50\n",
    "arg = 10\n",
    "X = np.round(np.random.random((arg, m)) * 10)\n",
    "weight = (np.random.random((arg, 1)) - 0.5) * 10\n",
    "bias = (np.random.random() - 0.5) * 10\n",
    "Y = np.round(sigma((np.dot(weight.T, X) + bias)))\n",
    "#print(weight, end=\"\\n\\n\")\n",
    "#print(bias, end=\"\\n\\n\")\n",
    "#print(Y)"
   ]
  },
  {
   "cell_type": "code",
   "execution_count": 4,
   "id": "0c55b127-7fef-4aca-93a4-92da934267b7",
   "metadata": {},
   "outputs": [
    {
     "name": "stdout",
     "output_type": "stream",
     "text": [
      "0.7687312279952883\n",
      "[[1.78628095]\n",
      " [2.26651035]\n",
      " [2.17516087]\n",
      " [0.10205922]\n",
      " [3.40357011]\n",
      " [0.25397901]\n",
      " [0.68836747]\n",
      " [2.50599529]\n",
      " [1.71264687]\n",
      " [0.75656039]]\n"
     ]
    }
   ],
   "source": [
    "W = np.zeros((arg, 1))\n",
    "b = 0\n",
    "rate = 0.1\n",
    "for i in range(1000):\n",
    "    Z = np.dot(W.T, X) + b\n",
    "    A = sigma(Z)\n",
    "    loss = np.sum(-np.dot(Y, np.log(A).T) - np.dot((1-Y), np.log(1-A).T))\n",
    "    dZ = A - Y #dZ: (1, 6)\n",
    "    dW = np.dot(X, dZ.T) / m #dW: (5, 1)\n",
    "    db = np.sum(dZ) / m\n",
    "    \n",
    "    W = W - rate * dW\n",
    "    b = b - rate * db\n",
    "\n",
    "sys.stdout.write(str(loss) + \"\\n\")\n",
    "print(np.abs(W - weight))"
   ]
  }
 ],
 "metadata": {
  "kernelspec": {
   "display_name": "Python 3 (ipykernel)",
   "language": "python",
   "name": "python3"
  },
  "language_info": {
   "codemirror_mode": {
    "name": "ipython",
    "version": 3
   },
   "file_extension": ".py",
   "mimetype": "text/x-python",
   "name": "python",
   "nbconvert_exporter": "python",
   "pygments_lexer": "ipython3",
   "version": "3.10.8"
  }
 },
 "nbformat": 4,
 "nbformat_minor": 5
}
