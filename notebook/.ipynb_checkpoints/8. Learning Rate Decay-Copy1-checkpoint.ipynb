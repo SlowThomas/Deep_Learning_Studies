{
 "cells": [
  {
   "cell_type": "code",
   "execution_count": 1,
   "id": "e699fe35-85a1-497f-b4e1-f033cfa12907",
   "metadata": {},
   "outputs": [],
   "source": [
    "import numpy as np\n",
    "import sys"
   ]
  },
  {
   "cell_type": "markdown",
   "id": "bf58a336-92d6-4a93-8030-e394ea1ed57c",
   "metadata": {
    "tags": []
   },
   "source": [
    "# Trainning Examples "
   ]
  },
  {
   "cell_type": "code",
   "execution_count": 2,
   "id": "1d90b164-c122-492d-b2e8-c47fcf6afc27",
   "metadata": {},
   "outputs": [],
   "source": [
    "inputs = 5\n",
    "data = 2000\n",
    "\n",
    "m = data\n",
    "\n",
    "X = (np.random.random((inputs, data)) - 0.5) * 2\n",
    "some_rates1 = np.random.randint(-1, 2, size = (1, inputs))\n",
    "Y = np.round(1/(1 + np.exp(-(np.dot(some_rates1, X))))) # shape: (1, data)"
   ]
  },
  {
   "cell_type": "markdown",
   "id": "25c7a9d8-f554-4688-b83b-e42ffe2c0eee",
   "metadata": {},
   "source": [
    "---\n",
    "\n",
    "# Machine"
   ]
  },
  {
   "cell_type": "markdown",
   "id": "b8496f4a-e438-4f99-8f27-1fb716cbf8bb",
   "metadata": {},
   "source": [
    "### hyper parameters"
   ]
  },
  {
   "cell_type": "code",
   "execution_count": 3,
   "id": "98762c6a-3cb5-4dd6-9452-96f473ac4434",
   "metadata": {},
   "outputs": [],
   "source": [
    "epoch = 1000\n",
    "alpha = 0.01\n",
    "decay_rate = 1\n",
    "beta_1 = 0.9\n",
    "beta_2 = 0.999\n",
    "lambd = 0.5\n",
    "batch = 64 # batch size, power of 2\n",
    "layers = [None, 5, 5, 5, 5, 1]\n",
    "epsilon = 1e-8"
   ]
  },
  {
   "cell_type": "markdown",
   "id": "dc18014b-0502-48c6-a819-d77630cb50d4",
   "metadata": {
    "tags": []
   },
   "source": [
    "---\n",
    "\n",
    "# Init"
   ]
  },
  {
   "cell_type": "markdown",
   "id": "378554b1-e92b-44cd-8043-84c6ab8a3f4d",
   "metadata": {},
   "source": [
    "### Activation Functions"
   ]
  },
  {
   "cell_type": "code",
   "execution_count": 4,
   "id": "ff8035b9-d41b-4cb1-ab02-373085b3bc98",
   "metadata": {},
   "outputs": [],
   "source": [
    "def ReLU(z):\n",
    "    return np.maximum(0, z)\n",
    "def d_ReLU(z):\n",
    "    return np.where(z < 0, 0.0, 1.0)\n",
    "\n",
    "def sigmoid(z):\n",
    "    return 1/(1 + np.exp(-z))\n",
    "def d_sigmoid(z):\n",
    "    return sigmoid(z)*(1 - sigmoid(z))\n",
    "\n",
    "def tanh(z):\n",
    "    # x = (np.exp(z) + np.exp(-z))/(np.exp(z) - np.exp(-z))\n",
    "    return np.tanh(z)\n",
    "def d_tanh(z):\n",
    "    return 1 - tanh(z)**2"
   ]
  },
  {
   "cell_type": "markdown",
   "id": "56c5ec81-d154-4ad4-8013-b014f8531065",
   "metadata": {},
   "source": [
    "### Cost Function"
   ]
  },
  {
   "cell_type": "code",
   "execution_count": 5,
   "id": "00aa8db3-79d4-4c4a-9b0e-bb5994c7714e",
   "metadata": {},
   "outputs": [],
   "source": [
    "def cost(Y_hat, Y):\n",
    "    return np.sum(-(Y*np.log(Y_hat + epsilon) + (1 - Y)*np.log(1 - Y_hat + epsilon))) / Y.shape[1]\n",
    "def d_cost(Y_hat, Y):\n",
    "    return -(Y/(Y_hat + epsilon)) + ((1-Y)/(1-Y_hat + epsilon))"
   ]
  },
  {
   "cell_type": "markdown",
   "id": "2569dcb7-3378-4162-858f-55ab06b38cc6",
   "metadata": {},
   "source": [
    "### Normalization"
   ]
  },
  {
   "cell_type": "code",
   "execution_count": 6,
   "id": "6a301faf-2d3e-4cc0-ac43-2c714f8e579e",
   "metadata": {},
   "outputs": [],
   "source": [
    "# subtract mean\n",
    "mu = np.sum(X) / m\n",
    "X = X - mu\n",
    "\n",
    "# Normalize Variance\n",
    "sigma = np.sum(X**2)/m\n",
    "X /= sigma"
   ]
  },
  {
   "cell_type": "markdown",
   "id": "f5ec3faa-144a-4fc0-931e-117c6253a08f",
   "metadata": {},
   "source": [
    "### Mini-Batch"
   ]
  },
  {
   "cell_type": "code",
   "execution_count": 7,
   "id": "c7d2cebc-7940-4ea7-bc2f-eb5251b5a42c",
   "metadata": {},
   "outputs": [],
   "source": [
    "layers[0] = inputs\n",
    "layer = len(layers) - 1\n",
    "batch_num = int(m / batch + 1)\n",
    "X = np.array_split(X, batch_num, 1)\n",
    "Y = np.array_split(Y, batch_num, 1)"
   ]
  },
  {
   "cell_type": "markdown",
   "id": "ceb9bc64-7da6-4388-bce4-778ec21cf8b0",
   "metadata": {},
   "source": [
    "### Cache"
   ]
  },
  {
   "cell_type": "code",
   "execution_count": 8,
   "id": "6a414e28-f854-46b8-85f5-5e5b00fa3379",
   "metadata": {},
   "outputs": [],
   "source": [
    "A = [X] + [None] * layer\n",
    "Z = [None] + [None] * layer\n",
    "g = [None] + [ReLU] * (layer - 1) + [sigmoid]\n",
    "dg = [None] + [d_ReLU] * (layer - 1) + [d_sigmoid]\n",
    "W = [None]\n",
    "VdW = [None]\n",
    "SdW = [None]\n",
    "B = [None]\n",
    "VdB = [None]\n",
    "SdB = [None]\n",
    "rate = alpha\n",
    "epoch_num = 0\n",
    "\n",
    "# Weight Initialization\n",
    "for l in range(1, layer + 1):\n",
    "    # weight = weight * Var(W)\n",
    "    # ReLU: Var(W) = sqrt(2 / n[l-1])\n",
    "    # tanh: Var(W) = sqrt(1 / n[l-1]) \n",
    "    #             or sqrt(2 / (n[l-1] + n[l]))\n",
    "    W.append(np.random.random((layers[l], layers[l-1]))*np.sqrt(2/layers[l-1]))\n",
    "    VdW.append(np.zeros((layers[l], layers[l-1])))\n",
    "    SdW.append(np.zeros((layers[l], layers[l-1])))\n",
    "    \n",
    "    B.append(np.zeros((layers[l], 1)))\n",
    "    VdB.append(np.zeros((layers[l], 1)))\n",
    "    SdB.append(np.zeros((layers[l], 1)))"
   ]
  },
  {
   "cell_type": "markdown",
   "id": "b670a39b-60e9-45e4-a3cf-d554bd0a0744",
   "metadata": {},
   "source": [
    "---\n",
    "\n",
    "# learning"
   ]
  },
  {
   "cell_type": "code",
   "execution_count": 9,
   "id": "8a8def02-cfef-471b-a9f0-5d5e23e39e4a",
   "metadata": {},
   "outputs": [
    {
     "name": "stdout",
     "output_type": "stream",
     "text": [
      "20%\n",
      "loss: 0.011090630445339053\n",
      "\n",
      "40%\n",
      "loss: 0.011090167370926135\n",
      "\n",
      "60%\n",
      "loss: 0.011090164162003155\n",
      "\n",
      "80%\n",
      "loss: 0.011090162557397818\n",
      "\n",
      "100%\n",
      "loss: 0.011090161594577689\n",
      "\n"
     ]
    }
   ],
   "source": [
    "for i in range(1, epoch + 1):\n",
    "    L = 0\n",
    "    # learning rate decay\n",
    "    rate = 1 / (1 + decay_rate * epoch_num) * alpha\n",
    "    for t in range(batch_num):\n",
    "        A[0] = X[t]\n",
    "        for l in range(1, layer + 1):\n",
    "            Z[l] = np.dot(W[l], A[l - 1]) + B[l]\n",
    "            A[l] = g[l](Z[l])\n",
    "        Y_hat = A[layer]\n",
    "        L += cost(Y_hat, Y[t])\n",
    "\n",
    "        dA = d_cost(Y_hat, Y[t])\n",
    "        for l in range(layer, 0, -1):\n",
    "            dZ = dA * dg[l](Z[l])\n",
    "            dW = np.dot(dZ, A[l-1].T) / data\n",
    "            # Regularized derivative\n",
    "            dW += lambd / m * W[l]\n",
    "            dB = np.sum(dZ, axis=1, keepdims=True) / data\n",
    "            \n",
    "            dA = np.dot(W[l].T, dZ)\n",
    "            \n",
    "            # Momentum & RMSprop\n",
    "            VdW[l] = beta_1 * VdW[l] + (1-beta_1)*dW\n",
    "            VdB[l] = beta_1 * VdB[l] + (1-beta_1)*dB\n",
    "            SdW[l] = beta_2 * SdW[l] + (1-beta_2)*dW**2\n",
    "            SdB[l] = beta_2 * SdB[l] + (1-beta_2)*dB**2\n",
    "            \n",
    "            # required: bias correction\n",
    "            VdW_corrected = VdW[l] / (1 - beta_1**(epoch_num*batch_num+t+1))\n",
    "            VdB_corrected = VdB[l] / (1 - beta_1**(epoch_num*batch_num+t+1))\n",
    "            SdW_corrected = SdW[l] / (1 - beta_2**(epoch_num*batch_num+t+1))\n",
    "            SdB_corrected = SdB[l] / (1 - beta_2**(epoch_num*batch_num+t+1))\n",
    "            \n",
    "            # gradient descent\n",
    "            W[l] = W[l] - VdW_corrected / (SdW_corrected**(1/2) + epsilon) * rate\n",
    "            B[l] = B[l] - VdB_corrected / (SdB_corrected**(1/2) + epsilon) * rate\n",
    "    \n",
    "    epoch_num += 1\n",
    "    \n",
    "    # Regularized cost\n",
    "    J = L / m\n",
    "    for l in range(1, layer + 1):\n",
    "        J += lambd / (2*m) * np.sum(W[l]**2)\n",
    "    \n",
    "    if((int(i / epoch * 100)) % 20 == 0 and int(i * 100 / epoch) == i * 100 / epoch):\n",
    "        sys.stdout.write(str(int(i / epoch * 100)) + \"%\\nloss: \" + str(J) + \"\\n\\n\")"
   ]
  },
  {
   "cell_type": "code",
   "execution_count": null,
   "id": "d9312dcb-7a2c-4a32-b8cb-25cdc84a2014",
   "metadata": {},
   "outputs": [],
   "source": []
  }
 ],
 "metadata": {
  "kernelspec": {
   "display_name": "Python 3 (ipykernel)",
   "language": "python",
   "name": "python3"
  },
  "language_info": {
   "codemirror_mode": {
    "name": "ipython",
    "version": 3
   },
   "file_extension": ".py",
   "mimetype": "text/x-python",
   "name": "python",
   "nbconvert_exporter": "python",
   "pygments_lexer": "ipython3",
   "version": "3.10.8"
  }
 },
 "nbformat": 4,
 "nbformat_minor": 5
}
