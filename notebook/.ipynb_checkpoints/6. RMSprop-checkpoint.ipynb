{
 "cells": [
  {
   "cell_type": "code",
   "execution_count": 1,
   "id": "688cca4e-8b4e-4f26-ae3a-fd6daf8fcf84",
   "metadata": {},
   "outputs": [],
   "source": [
    "import numpy as np\n",
    "import sys"
   ]
  },
  {
   "cell_type": "markdown",
   "id": "6cfe6c34-3eb2-40fa-b29b-e5701f662572",
   "metadata": {},
   "source": [
    "# Trainning Examples "
   ]
  },
  {
   "cell_type": "code",
   "execution_count": 2,
   "id": "18ab3757-9f0a-4524-be47-d18f030d7824",
   "metadata": {},
   "outputs": [],
   "source": [
    "inputs = 5\n",
    "data = 2000\n",
    "\n",
    "m = data\n",
    "\n",
    "X = (np.random.random((inputs, data)) - 0.5) * 2\n",
    "some_rates1 = np.random.randint(-1, 2, size = (1, inputs))\n",
    "Y = np.round(1/(1 + np.exp(-(np.dot(some_rates1, X))))) # shape: (1, data)"
   ]
  },
  {
   "cell_type": "markdown",
   "id": "398e4109-30bd-482f-bc06-aa7e15023c63",
   "metadata": {},
   "source": [
    "---\n",
    "\n",
    "# Machine"
   ]
  },
  {
   "cell_type": "markdown",
   "id": "212c9555-03f4-46ac-8027-d669e0364ebd",
   "metadata": {},
   "source": [
    "### hyper parameters"
   ]
  },
  {
   "cell_type": "code",
   "execution_count": 3,
   "id": "55d5dd8b-c2ff-4824-b988-a32b65815585",
   "metadata": {},
   "outputs": [],
   "source": [
    "epoch = 1000\n",
    "rate = 0.01\n",
    "beta = 0.9\n",
    "lambd = 0.5\n",
    "batch = 64 # batch size, power of 2\n",
    "layers = [None, 5, 5, 5, 5, 1]\n",
    "epsilon = 1e-5"
   ]
  },
  {
   "cell_type": "markdown",
   "id": "10fe585d-6621-43a1-aae6-ec133393afe2",
   "metadata": {
    "tags": []
   },
   "source": [
    "---\n",
    "\n",
    "# Init"
   ]
  },
  {
   "cell_type": "markdown",
   "id": "8daf0acb-1800-4f07-9e84-0f81e816289a",
   "metadata": {},
   "source": [
    "### Activation Functions"
   ]
  },
  {
   "cell_type": "code",
   "execution_count": 4,
   "id": "3409ba43-f60d-4353-97bb-e69c8cdbfcbf",
   "metadata": {},
   "outputs": [],
   "source": [
    "def ReLU(z):\n",
    "    return np.maximum(0, z)\n",
    "def d_ReLU(z):\n",
    "    return np.where(z < 0, 0.0, 1.0)\n",
    "\n",
    "def sigmoid(z):\n",
    "    return 1/(1 + np.exp(-z))\n",
    "def d_sigmoid(z):\n",
    "    return sigmoid(z)*(1 - sigmoid(z))\n",
    "\n",
    "def tanh(z):\n",
    "    # x = (np.exp(z) + np.exp(-z))/(np.exp(z) - np.exp(-z))\n",
    "    return np.tanh(z)\n",
    "def d_tanh(z):\n",
    "    return 1 - tanh(z)**2"
   ]
  },
  {
   "cell_type": "markdown",
   "id": "29904e95-162f-4902-a34e-7215984a3e72",
   "metadata": {},
   "source": [
    "### Cost Function"
   ]
  },
  {
   "cell_type": "code",
   "execution_count": 5,
   "id": "bfd42134-f18f-42f2-9873-37375eaeeb83",
   "metadata": {},
   "outputs": [],
   "source": [
    "def cost(Y_hat, Y):\n",
    "    return np.sum(-(Y*np.log(Y_hat + epsilon) + (1 - Y)*np.log(1 - Y_hat + epsilon))) / Y.shape[1]\n",
    "def d_cost(Y_hat, Y):\n",
    "    return -(Y/(Y_hat + epsilon)) + ((1-Y)/(1-Y_hat + epsilon))"
   ]
  },
  {
   "cell_type": "markdown",
   "id": "eba536a1-b9f2-4c2e-8369-b209463a37cf",
   "metadata": {},
   "source": [
    "### Normalization"
   ]
  },
  {
   "cell_type": "code",
   "execution_count": 6,
   "id": "ad3955d5-f4f8-490c-b166-aa764b6fa92b",
   "metadata": {},
   "outputs": [],
   "source": [
    "# subtract mean\n",
    "mu = np.sum(X) / m\n",
    "X = X - mu\n",
    "\n",
    "# Normalize Variance\n",
    "sigma = np.sum(X**2)/m\n",
    "X /= sigma"
   ]
  },
  {
   "cell_type": "markdown",
   "id": "73a4eee4-6d89-4e9c-b08c-d7c16e1c6521",
   "metadata": {},
   "source": [
    "### Mini-Batch"
   ]
  },
  {
   "cell_type": "code",
   "execution_count": 7,
   "id": "4c5c638e-e152-436e-b016-befc82e45faf",
   "metadata": {},
   "outputs": [],
   "source": [
    "layers[0] = inputs\n",
    "layer = len(layers) - 1\n",
    "batch_num = int(m / batch + 1)\n",
    "X = np.array_split(X, batch_num, 1)\n",
    "Y = np.array_split(Y, batch_num, 1)"
   ]
  },
  {
   "cell_type": "markdown",
   "id": "651b12bc-f34b-44bf-8570-29c751e6733b",
   "metadata": {},
   "source": [
    "### Cache"
   ]
  },
  {
   "cell_type": "code",
   "execution_count": 8,
   "id": "71c2bb2c-4562-469e-a104-3c7c161134f5",
   "metadata": {},
   "outputs": [],
   "source": [
    "A = [X] + [None] * layer\n",
    "Z = [None] + [None] * layer\n",
    "g = [None] + [ReLU] * (layer - 1) + [sigmoid]\n",
    "dg = [None] + [d_ReLU] * (layer - 1) + [d_sigmoid]\n",
    "W = [None]\n",
    "SdW = [None]\n",
    "B = [None]\n",
    "SdB = [None]\n",
    "\n",
    "# Weight Initialization\n",
    "for l in range(1, layer + 1):\n",
    "    # weight = weight * Var(W)\n",
    "    # ReLU: Var(W) = sqrt(2 / n[l-1])\n",
    "    # tanh: Var(W) = sqrt(1 / n[l-1]) \n",
    "    #             or sqrt(2 / (n[l-1] + n[l]))\n",
    "    W.append(np.random.random((layers[l], layers[l-1]))*np.sqrt(2/layers[l-1]))\n",
    "    SdW.append(np.zeros((layers[l], layers[l-1])))\n",
    "    \n",
    "    B.append(np.zeros((layers[l], 1)))\n",
    "    SdB.append(np.zeros((layers[l], 1)))"
   ]
  },
  {
   "cell_type": "markdown",
   "id": "c35a55b1-2443-4926-9da1-2b014a474b2b",
   "metadata": {},
   "source": [
    "---\n",
    "\n",
    "# learning"
   ]
  },
  {
   "cell_type": "markdown",
   "id": "0558ff6a-959e-4186-b82e-d7719797e9c5",
   "metadata": {},
   "source": [
    "![](https://i.imgur.com/QjPZN6q.png)"
   ]
  },
  {
   "cell_type": "code",
   "execution_count": 9,
   "id": "c9ee6b47-ba02-4d97-823a-e9b8807b2db7",
   "metadata": {},
   "outputs": [
    {
     "name": "stdout",
     "output_type": "stream",
     "text": [
      "20%\n",
      "loss: 0.0037116034854446592\n",
      "\n",
      "40%\n",
      "loss: 0.0036876567027601856\n",
      "\n",
      "60%\n",
      "loss: 0.003684192624507308\n",
      "\n",
      "80%\n",
      "loss: 0.0036788196974686443\n",
      "\n",
      "100%\n",
      "loss: 0.003671649102929366\n",
      "\n"
     ]
    }
   ],
   "source": [
    "for i in range(1, epoch + 1):\n",
    "    L = 0\n",
    "    for t in range(batch_num):\n",
    "        A[0] = X[t]\n",
    "        for l in range(1, layer + 1):\n",
    "            Z[l] = np.dot(W[l], A[l - 1]) + B[l]\n",
    "            A[l] = g[l](Z[l])\n",
    "        Y_hat = A[layer]\n",
    "        L += cost(Y_hat, Y[t])\n",
    "\n",
    "        dA = d_cost(Y_hat, Y[t])\n",
    "        for l in range(layer, 0, -1):\n",
    "            dZ = dA * dg[l](Z[l])\n",
    "            dW = np.dot(dZ, A[l-1].T) / data\n",
    "            # Regularized derivative\n",
    "            dW += lambd / m * W[l]\n",
    "            dB = np.sum(dZ, axis=1, keepdims=True) / data\n",
    "            \n",
    "            dA = np.dot(W[l].T, dZ)\n",
    "            \n",
    "            # RMSprop\n",
    "            SdW[l] = beta * SdW[l] + (1-beta)*dW**2\n",
    "            SdB[l] = beta * SdB[l] + (1-beta)*dB**2\n",
    "\n",
    "            W[l] = W[l] - dW / (SdW[l]**(1/2)+epsilon) * rate\n",
    "            B[l] = B[l] - dB / (SdB[l]**(1/2)+epsilon) * rate\n",
    "    \n",
    "    # Regularized cost\n",
    "    J = L / m\n",
    "    for l in range(1, layer + 1):\n",
    "        J += lambd / (2*m) * np.sum(W[l]**2)\n",
    "    \n",
    "    if((int(i / epoch * 100)) % 20 == 0 and int(i * 100 / epoch) == i * 100 / epoch):\n",
    "        sys.stdout.write(str(int(i / epoch * 100)) + \"%\\nloss: \" + str(J) + \"\\n\\n\")"
   ]
  },
  {
   "cell_type": "code",
   "execution_count": null,
   "id": "165a3d2b-728b-4e24-be81-bebe6129275a",
   "metadata": {},
   "outputs": [],
   "source": []
  }
 ],
 "metadata": {
  "kernelspec": {
   "display_name": "Python 3 (ipykernel)",
   "language": "python",
   "name": "python3"
  },
  "language_info": {
   "codemirror_mode": {
    "name": "ipython",
    "version": 3
   },
   "file_extension": ".py",
   "mimetype": "text/x-python",
   "name": "python",
   "nbconvert_exporter": "python",
   "pygments_lexer": "ipython3",
   "version": "3.10.8"
  }
 },
 "nbformat": 4,
 "nbformat_minor": 5
}
