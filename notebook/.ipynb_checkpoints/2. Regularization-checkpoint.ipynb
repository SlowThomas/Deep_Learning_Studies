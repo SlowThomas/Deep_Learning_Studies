{
 "cells": [
  {
   "cell_type": "code",
   "execution_count": 1,
   "id": "c2d91334-b400-4281-86ce-2cd5a73c5c01",
   "metadata": {},
   "outputs": [],
   "source": [
    "import numpy as np\n",
    "import sys"
   ]
  },
  {
   "cell_type": "markdown",
   "id": "9d98ba7f-4d71-4d6a-8fd7-a232e3229e00",
   "metadata": {},
   "source": [
    "### activation functions"
   ]
  },
  {
   "cell_type": "code",
   "execution_count": 2,
   "id": "e282f183-2893-4488-bf00-dde8f601ce17",
   "metadata": {},
   "outputs": [],
   "source": [
    "def ReLU(z):\n",
    "    return np.maximum(0, z)\n",
    "def d_ReLU(z):\n",
    "    return np.where(z < 0, 0.0, 1.0)\n",
    "\n",
    "def sigmoid(z):\n",
    "    return 1/(1 + np.exp(-z))\n",
    "def d_sigmoid(z):\n",
    "    return sigmoid(z)*(1 - sigmoid(z))\n",
    "\n",
    "def tanh(z):\n",
    "    # x = (np.exp(z) + np.exp(-z))/(np.exp(z) - np.exp(-z))\n",
    "    return np.tanh(z)\n",
    "def d_tanh(z):\n",
    "    return 1 - tanh(z)**2"
   ]
  },
  {
   "cell_type": "markdown",
   "id": "cd56ce13-0cf6-46d3-b2d9-d75bcf2b09c1",
   "metadata": {},
   "source": [
    "### trainning examples "
   ]
  },
  {
   "cell_type": "code",
   "execution_count": 3,
   "id": "659dcc23-45b3-4d01-aa6a-ab913c913753",
   "metadata": {},
   "outputs": [],
   "source": [
    "inputs = 5\n",
    "\n",
    "data = 50\n",
    "m = data\n",
    "\n",
    "X = (np.random.random((inputs, data)) - 0.5) * 2\n",
    "some_rates1 = np.random.randint(-1, 2, size = (1, inputs))\n",
    "Y = np.round(sigmoid(np.dot(some_rates1, X))) # shape: (1, data)"
   ]
  },
  {
   "cell_type": "markdown",
   "id": "9957c247-4466-42cd-8dd2-6b64977538b7",
   "metadata": {},
   "source": [
    "\n",
    "### init"
   ]
  },
  {
   "cell_type": "code",
   "execution_count": 4,
   "id": "933e8965-2f0a-4239-8320-8695dc4be596",
   "metadata": {},
   "outputs": [],
   "source": [
    "def cost(Y_hat):\n",
    "    epsilon = 0\n",
    "    if(np.any(Y_hat == 1) or np.any(Y_hat == 0)):\n",
    "        epsilon = 1e-5\n",
    "    return np.sum(-(Y*np.log(Y_hat + epsilon) + (1 - Y)*np.log(1 - Y_hat + epsilon))) / m\n",
    "def d_cost(Y_hat):\n",
    "    epsilon = 0\n",
    "    if(np.any(Y_hat == 1) or np.any(Y_hat == 0)):\n",
    "        epsilon = 1e-5\n",
    "    return -(Y/(Y_hat + epsilon)) + ((1-Y)/(1-Y_hat + epsilon))\n",
    "\n",
    "layers = [inputs, 5, 5, 5, 5, 1]\n",
    "layer = len(layers) - 1\n",
    "\n",
    "A = [X]\n",
    "dA = [None]\n",
    "W = [None]\n",
    "dW = [None]\n",
    "B = [None]\n",
    "dB = [None]\n",
    "Z = [None]\n",
    "dZ = [None]\n",
    "g = [None]\n",
    "dg = [None]\n",
    "\n",
    "for i in range(1, layer):\n",
    "    g.append(tanh)\n",
    "    dg.append(d_tanh)\n",
    "        \n",
    "g.append(sigmoid)\n",
    "dg.append(d_sigmoid)\n",
    "\n",
    "Y_hat = np.zeros((1, data))\n",
    "for l in range(1, layer + 1):\n",
    "    A.append(np.zeros((layers[l], data)))\n",
    "    dA.append(np.zeros((layers[l], data)))\n",
    "    \n",
    "    Z.append(np.zeros((layers[l], data)))\n",
    "    dZ.append(np.zeros((layers[l], data)))"
   ]
  },
  {
   "cell_type": "markdown",
   "id": "e10b58d8-0b46-4840-8077-997b1d3e8a57",
   "metadata": {},
   "source": [
    "### Normalizing"
   ]
  },
  {
   "cell_type": "code",
   "execution_count": 5,
   "id": "3546efa9-59d3-4cfe-b9da-ba5314bd7a19",
   "metadata": {},
   "outputs": [],
   "source": [
    "# subtract mean\n",
    "mu = np.sum(A[0]) / m\n",
    "A[0] = A[0] - mu\n",
    "\n",
    "# Normalize Variance\n",
    "sigma = np.sum(A[0]**2)/m\n",
    "A[0] /= sigma\n",
    "\n",
    "for l in range(1, layer + 1):\n",
    "    # weight = weight * Var(W)\n",
    "    # ReLU: Var(W) = sqrt(2 / n[l-1])\n",
    "    # tanh: Var(W) = sqrt(1 / n[l-1]) \n",
    "    #             or sqrt(2 / (n[l-1] + n[l]))\n",
    "    W.append(np.random.random((layers[l], layers[l-1]))*np.sqrt(2/layers[l-1]))\n",
    "    dW.append(np.zeros((layers[l], layers[l-1])))\n",
    "    \n",
    "    B.append(np.zeros((layers[l], 1)))\n",
    "    dB.append(np.zeros((layers[l], 1)))"
   ]
  },
  {
   "cell_type": "markdown",
   "id": "1b7577eb-b1a8-4b30-a7d6-edb3047e879d",
   "metadata": {},
   "source": [
    "### learning"
   ]
  },
  {
   "cell_type": "markdown",
   "id": "dfa871a5-a05d-4990-a66d-90d0c878db1a",
   "metadata": {},
   "source": [
    "![](https://i.imgur.com/wq7rA2W.png)"
   ]
  },
  {
   "cell_type": "code",
   "execution_count": 6,
   "id": "0cff5dc9-5599-4d1e-a363-dc7fdf5d870f",
   "metadata": {},
   "outputs": [
    {
     "name": "stdout",
     "output_type": "stream",
     "text": [
      "20%\n",
      "loss: 0.5713616197425313, 0.6392865155464086\n",
      "\n",
      "40%\n",
      "loss: 0.4817888215464378, 0.5495284435698535\n",
      "\n",
      "60%\n",
      "loss: 0.31843754126873586, 0.3912156466607578\n",
      "\n",
      "80%\n",
      "loss: 0.1845802064873525, 0.26716059024586225\n",
      "\n",
      "100%\n",
      "loss: 0.11816275312876444, 0.20969365048035182\n",
      "\n"
     ]
    }
   ],
   "source": [
    "iteration = 1000\n",
    "rate = 0.01\n",
    "lambd = 0.5\n",
    "L = cost(Y_hat)\n",
    "\n",
    "for i in range(1, iteration + 1):\n",
    "    for l in range(1, layer + 1):\n",
    "        Z[l] = np.dot(W[l], A[l - 1]) + B[l]\n",
    "        A[l] = g[l](Z[l])\n",
    "    Y_hat = A[layer]\n",
    "    L = cost(Y_hat)\n",
    "    # Regularized cost\n",
    "    J = L\n",
    "    for l in range(1, layer + 1):\n",
    "        J += lambd / (2*m) * np.sum(W[l]**2)\n",
    "    \n",
    "    dA[layer] = d_cost(Y_hat)\n",
    "    for l in range(layer, 0, -1):\n",
    "        dZ[l] = dA[l] * dg[l](Z[l])\n",
    "        dW[l] = np.dot(dZ[l], A[l-1].T) / data\n",
    "        #Regularized derivative\n",
    "        dW[l] += lambd / m * W[l]\n",
    "        dB[l] = np.sum(dZ[l], axis=1, keepdims=True) / data\n",
    "        dA[l-1] = np.dot(W[l].T, dZ[l])\n",
    "        \n",
    "        W[l] = W[l] - dW[l] * rate\n",
    "        B[l] = B[l] - dB[l] * rate\n",
    "    \n",
    "    if((int(i / iteration * 100)) % 20 == 0 and int(i * 100 / iteration) == i * 100 / iteration):\n",
    "        sys.stdout.write(str(int(i / iteration * 100)) + \"%\\nloss: \" + str(L) + \", \" + str(J) + \"\\n\\n\")"
   ]
  },
  {
   "cell_type": "code",
   "execution_count": null,
   "id": "33723ee3-15b7-4e9a-bbec-ded901608ac6",
   "metadata": {},
   "outputs": [],
   "source": []
  }
 ],
 "metadata": {
  "kernelspec": {
   "display_name": "Python 3 (ipykernel)",
   "language": "python",
   "name": "python3"
  },
  "language_info": {
   "codemirror_mode": {
    "name": "ipython",
    "version": 3
   },
   "file_extension": ".py",
   "mimetype": "text/x-python",
   "name": "python",
   "nbconvert_exporter": "python",
   "pygments_lexer": "ipython3",
   "version": "3.10.8"
  }
 },
 "nbformat": 4,
 "nbformat_minor": 5
}
