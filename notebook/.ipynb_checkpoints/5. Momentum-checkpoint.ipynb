{
 "cells": [
  {
   "cell_type": "code",
   "execution_count": 1,
   "id": "9f210231-c803-4adf-bc89-f9c60df5c32b",
   "metadata": {},
   "outputs": [],
   "source": [
    "import numpy as np\n",
    "import sys"
   ]
  },
  {
   "cell_type": "markdown",
   "id": "de77cb0e-0593-43e6-ac6a-1f1f7a5f618d",
   "metadata": {},
   "source": [
    "# Trainning Examples "
   ]
  },
  {
   "cell_type": "code",
   "execution_count": 2,
   "id": "17ccf9da-ba5e-4c89-ab5e-355b96afb147",
   "metadata": {},
   "outputs": [],
   "source": [
    "inputs = 5\n",
    "data = 2000\n",
    "\n",
    "m = data\n",
    "\n",
    "X = (np.random.random((inputs, data)) - 0.5) * 2\n",
    "some_rates1 = np.random.randint(-1, 2, size = (1, inputs))\n",
    "Y = np.round(1/(1 + np.exp(-(np.dot(some_rates1, X))))) # shape: (1, data)"
   ]
  },
  {
   "cell_type": "markdown",
   "id": "1e83a57c-d678-4b53-95b4-43aed53354e2",
   "metadata": {},
   "source": [
    "---\n",
    "\n",
    "# Machine"
   ]
  },
  {
   "cell_type": "markdown",
   "id": "dfdf5359-8db3-4026-8644-2122fc34d1ad",
   "metadata": {},
   "source": [
    "### hyper parameters"
   ]
  },
  {
   "cell_type": "code",
   "execution_count": 3,
   "id": "740c9e23-d0c6-4546-8503-2c877e95c3fd",
   "metadata": {},
   "outputs": [],
   "source": [
    "epoch = 1000\n",
    "rate = 0.01\n",
    "beta = 0.9\n",
    "lambd = 0.5\n",
    "batch = 64 # batch size, power of 2\n",
    "layers = [None, 5, 5, 5, 5, 1]\n",
    "epsilon = 1e-5"
   ]
  },
  {
   "cell_type": "markdown",
   "id": "a7a37f60-1ccc-4725-8eb2-a10babbd7732",
   "metadata": {
    "tags": []
   },
   "source": [
    "---\n",
    "\n",
    "# Init"
   ]
  },
  {
   "cell_type": "markdown",
   "id": "f5f5ebbb-61b8-4bb7-9811-08586468b0dd",
   "metadata": {},
   "source": [
    "### Activation Functions"
   ]
  },
  {
   "cell_type": "code",
   "execution_count": 4,
   "id": "8c758652-ee5a-419d-aeaf-5f88c66b68d9",
   "metadata": {},
   "outputs": [],
   "source": [
    "def ReLU(z):\n",
    "    return np.maximum(0, z)\n",
    "def d_ReLU(z):\n",
    "    return np.where(z < 0, 0.0, 1.0)\n",
    "\n",
    "def sigmoid(z):\n",
    "    return 1/(1 + np.exp(-z))\n",
    "def d_sigmoid(z):\n",
    "    return sigmoid(z)*(1 - sigmoid(z))\n",
    "\n",
    "def tanh(z):\n",
    "    # x = (np.exp(z) + np.exp(-z))/(np.exp(z) - np.exp(-z))\n",
    "    return np.tanh(z)\n",
    "def d_tanh(z):\n",
    "    return 1 - tanh(z)**2"
   ]
  },
  {
   "cell_type": "markdown",
   "id": "1a7571c2-0ed4-4168-ae05-04f9e665f0f0",
   "metadata": {},
   "source": [
    "### Cost Function"
   ]
  },
  {
   "cell_type": "code",
   "execution_count": 5,
   "id": "c23f5891-38a2-4ada-83e4-a3a284499f4d",
   "metadata": {},
   "outputs": [],
   "source": [
    "def cost(Y_hat, Y):\n",
    "    return np.sum(-(Y*np.log(Y_hat + epsilon) + (1 - Y)*np.log(1 - Y_hat + epsilon))) / Y.shape[1]\n",
    "def d_cost(Y_hat, Y):\n",
    "    return -(Y/(Y_hat + epsilon)) + ((1-Y)/(1-Y_hat + epsilon))"
   ]
  },
  {
   "cell_type": "markdown",
   "id": "375761cb-e50d-41d3-830d-8340a92f860d",
   "metadata": {},
   "source": [
    "### Normalization"
   ]
  },
  {
   "cell_type": "code",
   "execution_count": 6,
   "id": "14a05e78-5577-4e38-a9fc-0a8f84d5682f",
   "metadata": {},
   "outputs": [],
   "source": [
    "# subtract mean\n",
    "mu = np.sum(X) / m\n",
    "X = X - mu\n",
    "\n",
    "# Normalize Variance\n",
    "sigma = np.sum(X**2)/m\n",
    "X /= sigma"
   ]
  },
  {
   "cell_type": "markdown",
   "id": "c3f25094-c9cc-4b07-a9f9-c5a618b94dbd",
   "metadata": {},
   "source": [
    "### Mini-Batch"
   ]
  },
  {
   "cell_type": "code",
   "execution_count": 7,
   "id": "37bfddad-5280-4109-b4d7-cd0efcea577e",
   "metadata": {},
   "outputs": [],
   "source": [
    "layers[0] = inputs\n",
    "layer = len(layers) - 1\n",
    "batch_num = int(m / batch + 1)\n",
    "X = np.array_split(X, batch_num, 1)\n",
    "Y = np.array_split(Y, batch_num, 1)"
   ]
  },
  {
   "cell_type": "markdown",
   "id": "91ef3e53-0744-4a72-b012-d48efd981f75",
   "metadata": {},
   "source": [
    "### Cache"
   ]
  },
  {
   "cell_type": "code",
   "execution_count": 8,
   "id": "75fb3450-02e4-4c82-a948-751d0cbe9e6d",
   "metadata": {},
   "outputs": [],
   "source": [
    "A = [X] + [None] * layer\n",
    "Z = [None] + [None] * layer\n",
    "g = [None] + [ReLU] * (layer - 1) + [sigmoid]\n",
    "dg = [None] + [d_ReLU] * (layer - 1) + [d_sigmoid]\n",
    "W = [None]\n",
    "VdW = [None]\n",
    "B = [None]\n",
    "VdB = [None]\n",
    "\n",
    "# Weight Initialization\n",
    "for l in range(1, layer + 1):\n",
    "    # weight = weight * Var(W)\n",
    "    # ReLU: Var(W) = sqrt(2 / n[l-1])\n",
    "    # tanh: Var(W) = sqrt(1 / n[l-1]) \n",
    "    #             or sqrt(2 / (n[l-1] + n[l]))\n",
    "    W.append(np.random.random((layers[l], layers[l-1]))*np.sqrt(2/layers[l-1]))\n",
    "    VdW.append(np.zeros((layers[l], layers[l-1])))\n",
    "    \n",
    "    B.append(np.zeros((layers[l], 1)))\n",
    "    VdB.append(np.zeros((layers[l], 1)))"
   ]
  },
  {
   "cell_type": "markdown",
   "id": "10cf0c9f-a516-46e3-8b23-02ddbbb91f0d",
   "metadata": {},
   "source": [
    "---\n",
    "\n",
    "# learning"
   ]
  },
  {
   "cell_type": "markdown",
   "id": "9bb66593-3b8b-4796-a7c8-607b3b08a897",
   "metadata": {},
   "source": [
    "![](https://i.imgur.com/XCW8a71.png)"
   ]
  },
  {
   "cell_type": "code",
   "execution_count": 9,
   "id": "f69a3517-408e-4816-9bbb-001391a0752a",
   "metadata": {},
   "outputs": [
    {
     "name": "stdout",
     "output_type": "stream",
     "text": [
      "20%\n",
      "loss: 0.012252024139580375\n",
      "\n",
      "40%\n",
      "loss: 0.011270409033861731\n",
      "\n",
      "60%\n",
      "loss: 0.009796866400186881\n",
      "\n",
      "80%\n",
      "loss: 0.008212569059919449\n",
      "\n",
      "100%\n",
      "loss: 0.006999486350739348\n",
      "\n"
     ]
    }
   ],
   "source": [
    "for i in range(1, epoch + 1):\n",
    "    L = 0\n",
    "    for t in range(batch_num):\n",
    "        A[0] = X[t]\n",
    "        for l in range(1, layer + 1):\n",
    "            Z[l] = np.dot(W[l], A[l - 1]) + B[l]\n",
    "            A[l] = g[l](Z[l])\n",
    "        Y_hat = A[layer]\n",
    "        L += cost(Y_hat, Y[t])\n",
    "\n",
    "        dA = d_cost(Y_hat, Y[t])\n",
    "        for l in range(layer, 0, -1):\n",
    "            dZ = dA * dg[l](Z[l])\n",
    "            dW = np.dot(dZ, A[l-1].T) / data\n",
    "            # Regularized derivative\n",
    "            dW += lambd / m * W[l]\n",
    "            dB = np.sum(dZ, axis=1, keepdims=True) / data\n",
    "            \n",
    "            dA = np.dot(W[l].T, dZ)\n",
    "            \n",
    "            # Momentum\n",
    "            VdW[l] = beta * VdW[l] + (1-beta)*dW\n",
    "            VdB[l] = beta * VdB[l] + (1-beta)*dB\n",
    "\n",
    "            # usually: without bias correction\n",
    "            W[l] = W[l] - VdW[l] * rate\n",
    "            B[l] = B[l] - VdB[l] * rate\n",
    "            \n",
    "            # optional: bias correction\n",
    "            '''\n",
    "            W[l] = W[l] - VdW[l] / (1 - beta**(i*batch_num+t)) * rate\n",
    "            B[l] = B[l] - VdB[l] / (1 - beta**(i*batch_num+t)) * rate\n",
    "            '''\n",
    "    \n",
    "    # Regularized cost\n",
    "    J = L / m\n",
    "    for l in range(1, layer + 1):\n",
    "        J += lambd / (2*m) * np.sum(W[l]**2)\n",
    "    \n",
    "    if((int(i / epoch * 100)) % 20 == 0 and int(i * 100 / epoch) == i * 100 / epoch):\n",
    "        sys.stdout.write(str(int(i / epoch * 100)) + \"%\\nloss: \" + str(J) + \"\\n\\n\")"
   ]
  },
  {
   "cell_type": "code",
   "execution_count": null,
   "id": "2452327d-551c-42e6-80be-f150b2b1f593",
   "metadata": {},
   "outputs": [],
   "source": []
  }
 ],
 "metadata": {
  "kernelspec": {
   "display_name": "Python 3 (ipykernel)",
   "language": "python",
   "name": "python3"
  },
  "language_info": {
   "codemirror_mode": {
    "name": "ipython",
    "version": 3
   },
   "file_extension": ".py",
   "mimetype": "text/x-python",
   "name": "python",
   "nbconvert_exporter": "python",
   "pygments_lexer": "ipython3",
   "version": "3.10.8"
  }
 },
 "nbformat": 4,
 "nbformat_minor": 5
}
