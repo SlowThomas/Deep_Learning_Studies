{
 "cells": [
  {
   "cell_type": "code",
   "execution_count": 1,
   "id": "abcaea63-7a7c-4270-b012-135c6ad88a31",
   "metadata": {},
   "outputs": [],
   "source": [
    "import numpy as np\n",
    "import sys"
   ]
  },
  {
   "cell_type": "markdown",
   "id": "cfbdcda0-3f26-4237-b2c3-85c40f3730ac",
   "metadata": {},
   "source": [
    "# Trainning Examples "
   ]
  },
  {
   "cell_type": "code",
   "execution_count": 2,
   "id": "c7845b69-fb51-466d-856a-26442b7cc251",
   "metadata": {},
   "outputs": [],
   "source": [
    "inputs = 5\n",
    "data = 2000\n",
    "\n",
    "m = data\n",
    "\n",
    "X = (np.random.random((inputs, data)) - 0.5) * 2\n",
    "some_rates1 = np.random.randint(-1, 2, size = (1, inputs))\n",
    "Y = np.round(1/(1 + np.exp(-(np.dot(some_rates1, X))))) # shape: (1, data)"
   ]
  },
  {
   "cell_type": "markdown",
   "id": "cd03f12a-1f06-48f0-a7bc-b67868f1dbde",
   "metadata": {},
   "source": [
    "---\n",
    "\n",
    "# Machine"
   ]
  },
  {
   "cell_type": "markdown",
   "id": "f4d82b6b-1dfa-42b1-8bce-cd181956f372",
   "metadata": {},
   "source": [
    "### hyper parameters"
   ]
  },
  {
   "cell_type": "code",
   "execution_count": 3,
   "id": "6cea1f82-8bb4-4bd8-8036-e9fafd05f8da",
   "metadata": {},
   "outputs": [],
   "source": [
    "epoch = 1000\n",
    "rate = 0.01\n",
    "beta_1 = 0.9\n",
    "beta_2 = 0.999\n",
    "lambd = 0.5\n",
    "batch = 64 # batch size, power of 2\n",
    "layers = [None, 5, 5, 5, 5, 1]\n",
    "epsilon = 1e-8"
   ]
  },
  {
   "cell_type": "markdown",
   "id": "5ec51599-2130-45db-94f0-19f6bc096701",
   "metadata": {
    "tags": []
   },
   "source": [
    "---\n",
    "\n",
    "# Init"
   ]
  },
  {
   "cell_type": "markdown",
   "id": "d35a8d3a-6227-4c59-b743-b4c2c8941ed0",
   "metadata": {},
   "source": [
    "### Activation Functions"
   ]
  },
  {
   "cell_type": "code",
   "execution_count": 4,
   "id": "419418ae-8c42-492b-91fa-f06c7dfe37bc",
   "metadata": {},
   "outputs": [],
   "source": [
    "def ReLU(z):\n",
    "    return np.maximum(0, z)\n",
    "def d_ReLU(z):\n",
    "    return np.where(z < 0, 0.0, 1.0)\n",
    "\n",
    "def sigmoid(z):\n",
    "    return 1/(1 + np.exp(-z))\n",
    "def d_sigmoid(z):\n",
    "    return sigmoid(z)*(1 - sigmoid(z))\n",
    "\n",
    "def tanh(z):\n",
    "    # x = (np.exp(z) + np.exp(-z))/(np.exp(z) - np.exp(-z))\n",
    "    return np.tanh(z)\n",
    "def d_tanh(z):\n",
    "    return 1 - tanh(z)**2"
   ]
  },
  {
   "cell_type": "markdown",
   "id": "b56aa313-9658-4d82-b8a1-d297943fcda8",
   "metadata": {},
   "source": [
    "### Cost Function"
   ]
  },
  {
   "cell_type": "code",
   "execution_count": 5,
   "id": "3c8a8e74-51a2-459e-8031-7c341b1f79f0",
   "metadata": {},
   "outputs": [],
   "source": [
    "def cost(Y_hat, Y):\n",
    "    return np.sum(-(Y*np.log(Y_hat + epsilon) + (1 - Y)*np.log(1 - Y_hat + epsilon))) / Y.shape[1]\n",
    "def d_cost(Y_hat, Y):\n",
    "    return -(Y/(Y_hat + epsilon)) + ((1-Y)/(1-Y_hat + epsilon))"
   ]
  },
  {
   "cell_type": "markdown",
   "id": "3e7c1ad2-241a-493d-887a-e00de4ad3805",
   "metadata": {},
   "source": [
    "### Normalization"
   ]
  },
  {
   "cell_type": "code",
   "execution_count": 6,
   "id": "6170cd43-0b6d-4fdd-af53-7db5702cebb3",
   "metadata": {},
   "outputs": [],
   "source": [
    "# subtract mean\n",
    "mu = np.sum(X) / m\n",
    "X = X - mu\n",
    "\n",
    "# Normalize Variance\n",
    "sigma = np.sum(X**2)/m\n",
    "X /= sigma"
   ]
  },
  {
   "cell_type": "markdown",
   "id": "4bfce2f1-62c9-4c82-b748-86c14ab3b70d",
   "metadata": {},
   "source": [
    "### Mini-Batch"
   ]
  },
  {
   "cell_type": "code",
   "execution_count": 7,
   "id": "75625a75-36f5-4501-abb9-1414c2958aec",
   "metadata": {},
   "outputs": [],
   "source": [
    "layers[0] = inputs\n",
    "layer = len(layers) - 1\n",
    "batch_num = int(m / batch + 1)\n",
    "X = np.array_split(X, batch_num, 1)\n",
    "Y = np.array_split(Y, batch_num, 1)"
   ]
  },
  {
   "cell_type": "markdown",
   "id": "cfce3d7c-a3a6-40b2-a05a-e0b1abc38afb",
   "metadata": {},
   "source": [
    "### Cache"
   ]
  },
  {
   "cell_type": "code",
   "execution_count": 8,
   "id": "2251b86b-e3f3-4197-9316-3af63c3910de",
   "metadata": {},
   "outputs": [],
   "source": [
    "A = [X] + [None] * layer\n",
    "Z = [None] + [None] * layer\n",
    "g = [None] + [ReLU] * (layer - 1) + [sigmoid]\n",
    "dg = [None] + [d_ReLU] * (layer - 1) + [d_sigmoid]\n",
    "W = [None]\n",
    "VdW = [None]\n",
    "SdW = [None]\n",
    "B = [None]\n",
    "VdB = [None]\n",
    "SdB = [None]\n",
    "\n",
    "# Weight Initialization\n",
    "for l in range(1, layer + 1):\n",
    "    # weight = weight * Var(W)\n",
    "    # ReLU: Var(W) = sqrt(2 / n[l-1])\n",
    "    # tanh: Var(W) = sqrt(1 / n[l-1]) \n",
    "    #             or sqrt(2 / (n[l-1] + n[l]))\n",
    "    W.append(np.random.random((layers[l], layers[l-1]))*np.sqrt(2/layers[l-1]))\n",
    "    VdW.append(np.zeros((layers[l], layers[l-1])))\n",
    "    SdW.append(np.zeros((layers[l], layers[l-1])))\n",
    "    \n",
    "    B.append(np.zeros((layers[l], 1)))\n",
    "    VdB.append(np.zeros((layers[l], 1)))\n",
    "    SdB.append(np.zeros((layers[l], 1)))"
   ]
  },
  {
   "cell_type": "markdown",
   "id": "98ee1485-ea5d-4efc-aad6-4d6ccb17fe05",
   "metadata": {},
   "source": [
    "---\n",
    "\n",
    "# learning"
   ]
  },
  {
   "cell_type": "code",
   "execution_count": 9,
   "id": "12e84496-1841-4964-ad98-3647d3436023",
   "metadata": {},
   "outputs": [
    {
     "name": "stdout",
     "output_type": "stream",
     "text": [
      "20%\n",
      "loss: 0.0035853167362943847\n",
      "\n",
      "40%\n",
      "loss: 0.0035800027927763824\n",
      "\n",
      "60%\n",
      "loss: 0.0035890625066420955\n",
      "\n",
      "80%\n",
      "loss: 0.0035820384059629855\n",
      "\n",
      "100%\n",
      "loss: 0.003568157519602353\n",
      "\n"
     ]
    }
   ],
   "source": [
    "for i in range(1, epoch + 1):\n",
    "    L = 0\n",
    "    for t in range(batch_num):\n",
    "        A[0] = X[t]\n",
    "        for l in range(1, layer + 1):\n",
    "            Z[l] = np.dot(W[l], A[l - 1]) + B[l]\n",
    "            A[l] = g[l](Z[l])\n",
    "        Y_hat = A[layer]\n",
    "        L += cost(Y_hat, Y[t])\n",
    "\n",
    "        dA = d_cost(Y_hat, Y[t])\n",
    "        for l in range(layer, 0, -1):\n",
    "            dZ = dA * dg[l](Z[l])\n",
    "            dW = np.dot(dZ, A[l-1].T) / data\n",
    "            # Regularized derivative\n",
    "            dW += lambd / m * W[l]\n",
    "            dB = np.sum(dZ, axis=1, keepdims=True) / data\n",
    "            \n",
    "            dA = np.dot(W[l].T, dZ)\n",
    "            \n",
    "            # Momentum & RMSprop\n",
    "            VdW[l] = beta_1 * VdW[l] + (1-beta_1)*dW\n",
    "            VdB[l] = beta_1 * VdB[l] + (1-beta_1)*dB\n",
    "            SdW[l] = beta_2 * SdW[l] + (1-beta_2)*dW**2\n",
    "            SdB[l] = beta_2 * SdB[l] + (1-beta_2)*dB**2\n",
    "            \n",
    "            # required: bias correction\n",
    "            VdW_corrected = VdW[l] / (1 - beta_1**((i-1)*batch_num+t+1))\n",
    "            VdB_corrected = VdB[l] / (1 - beta_1**((i-1)*batch_num+t+1))\n",
    "            SdW_corrected = SdW[l] / (1 - beta_2**((i-1)*batch_num+t+1))\n",
    "            SdB_corrected = SdB[l] / (1 - beta_2**((i-1)*batch_num+t+1))\n",
    "            \n",
    "            # gradient descent\n",
    "            W[l] = W[l] - VdW_corrected / (SdW_corrected**(1/2) + epsilon) * rate\n",
    "            B[l] = B[l] - VdB_corrected / (SdB_corrected**(1/2) + epsilon) * rate\n",
    "    \n",
    "    # Regularized cost\n",
    "    J = L / m\n",
    "    for l in range(1, layer + 1):\n",
    "        J += lambd / (2*m) * np.sum(W[l]**2)\n",
    "    \n",
    "    if((int(i / epoch * 100)) % 20 == 0 and int(i * 100 / epoch) == i * 100 / epoch):\n",
    "        sys.stdout.write(str(int(i / epoch * 100)) + \"%\\nloss: \" + str(J) + \"\\n\\n\")"
   ]
  },
  {
   "cell_type": "code",
   "execution_count": null,
   "id": "977fe264-0795-4104-ba3b-cb6133855f61",
   "metadata": {},
   "outputs": [],
   "source": []
  }
 ],
 "metadata": {
  "kernelspec": {
   "display_name": "Python 3 (ipykernel)",
   "language": "python",
   "name": "python3"
  },
  "language_info": {
   "codemirror_mode": {
    "name": "ipython",
    "version": 3
   },
   "file_extension": ".py",
   "mimetype": "text/x-python",
   "name": "python",
   "nbconvert_exporter": "python",
   "pygments_lexer": "ipython3",
   "version": "3.10.8"
  }
 },
 "nbformat": 4,
 "nbformat_minor": 5
}
